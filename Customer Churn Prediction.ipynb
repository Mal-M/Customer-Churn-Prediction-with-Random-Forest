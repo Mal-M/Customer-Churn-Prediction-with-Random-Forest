{
 "cells": [
  {
   "cell_type": "markdown",
   "id": "704979fb",
   "metadata": {},
   "source": [
    "# Customer Churn Prediction"
   ]
  },
  {
   "cell_type": "markdown",
   "id": "bb3ca9b3",
   "metadata": {},
   "source": [
    "A Tour & Travels Company Wants To Predict Whether A Customer Will Churn Or Not Based On Indicators Given Below.\n",
    "Predictive Model will be built using **Random Forest**.\n"
   ]
  },
  {
   "cell_type": "code",
   "execution_count": 6,
   "id": "0690dc49",
   "metadata": {},
   "outputs": [],
   "source": [
    "# import necessary libraries\n",
    "from sklearn import *\n",
    "import math\n",
    "import numpy as np\n",
    "import pandas as pd\n",
    "import matplotlib.pyplot as plt\n",
    "import seaborn as sns\n"
   ]
  },
  {
   "cell_type": "markdown",
   "id": "1e79e63d",
   "metadata": {},
   "source": [
    "## Data Exploration"
   ]
  },
  {
   "cell_type": "markdown",
   "id": "752d8596",
   "metadata": {},
   "source": [
    "At this stage we will load the data and explore it. How many features do we have, what kind of data types, are there any missing values."
   ]
  },
  {
   "cell_type": "markdown",
   "id": "169ad58f",
   "metadata": {},
   "source": [
    "### Load the Data"
   ]
  },
  {
   "cell_type": "markdown",
   "id": "5f37fd68",
   "metadata": {},
   "source": [
    "It's important to determine, which variable is our dependent variable. \n",
    "In this case, our target variable is to be the one that indicates whether a customer has churned or not. \n",
    "So our dependent variable is \"Target\".\n",
    "\n",
    "**Target = 1 - customer Churns, 0 - customer doesn't Churns**. \n",
    "  \n"
   ]
  },
  {
   "cell_type": "code",
   "execution_count": 7,
   "id": "1ca89991",
   "metadata": {},
   "outputs": [
    {
     "name": "stdout",
     "output_type": "stream",
     "text": [
      "   Age FrequentFlyer AnnualIncomeClass  ServicesOpted  \\\n",
      "0   34            No     Middle Income              6   \n",
      "1   34           Yes        Low Income              5   \n",
      "2   37            No     Middle Income              3   \n",
      "3   30            No     Middle Income              2   \n",
      "4   30            No        Low Income              1   \n",
      "5   27           Yes       High Income              1   \n",
      "6   34            No     Middle Income              4   \n",
      "7   34            No        Low Income              2   \n",
      "8   30            No        Low Income              3   \n",
      "9   36           Yes       High Income              1   \n",
      "\n",
      "  AccountSyncedToSocialMedia BookedHotelOrNot  Target  \n",
      "0                         No              Yes       0  \n",
      "1                        Yes               No       1  \n",
      "2                        Yes               No       0  \n",
      "3                         No               No       0  \n",
      "4                         No               No       0  \n",
      "5                         No              Yes       1  \n",
      "6                        Yes              Yes       0  \n",
      "7                        Yes               No       1  \n",
      "8                         No              Yes       0  \n",
      "9                         No               No       1  \n"
     ]
    }
   ],
   "source": [
    "original_data = pd.read_csv(\"Customertravel.csv\")\n",
    "print(original_data.head(10))\n",
    "# print(len(original_data))"
   ]
  },
  {
   "cell_type": "code",
   "execution_count": 8,
   "id": "e53d67d3",
   "metadata": {},
   "outputs": [
    {
     "name": "stdout",
     "output_type": "stream",
     "text": [
      "954\n",
      "   Age FrequentFlyer AnnualIncomeClass  ServicesOpted  \\\n",
      "0   34            No     Middle Income              6   \n",
      "1   34           Yes        Low Income              5   \n",
      "2   37            No     Middle Income              3   \n",
      "3   30            No     Middle Income              2   \n",
      "4   30            No        Low Income              1   \n",
      "\n",
      "  AccountSyncedToSocialMedia BookedHotelOrNot  Target  \n",
      "0                         No              Yes       0  \n",
      "1                        Yes               No       1  \n",
      "2                        Yes               No       0  \n",
      "3                         No               No       0  \n",
      "4                         No               No       0  \n"
     ]
    }
   ],
   "source": [
    "data_copy = original_data.copy(deep=True)\n",
    "print(len(data_copy))\n",
    "print(data_copy.head())"
   ]
  },
  {
   "cell_type": "markdown",
   "id": "54dbacb9",
   "metadata": {},
   "source": [
    "### Check the Data"
   ]
  },
  {
   "cell_type": "code",
   "execution_count": 4,
   "id": "554b3d7a",
   "metadata": {},
   "outputs": [
    {
     "name": "stdout",
     "output_type": "stream",
     "text": [
      "Columns: ['Age', 'FrequentFlyer', 'AnnualIncomeClass', 'ServicesOpted', 'AccountSyncedToSocialMedia', 'BookedHotelOrNot', 'Target']\n",
      "['Middle Income' 'Low Income' 'High Income']\n"
     ]
    }
   ],
   "source": [
    "columns = list(data_copy.columns)\n",
    "print(f\"Columns: {columns}\")\n",
    "# len(data_copy.columns)\n",
    "un= data_copy['AnnualIncomeClass'].unique()\n",
    "print(un)\n"
   ]
  },
  {
   "cell_type": "code",
   "execution_count": 5,
   "id": "a62b0341",
   "metadata": {},
   "outputs": [
    {
     "name": "stdout",
     "output_type": "stream",
     "text": [
      "Target classes: [0 1]\n",
      "0    730\n",
      "1    224\n",
      "Name: Target, dtype: int64\n"
     ]
    }
   ],
   "source": [
    "#check unique values of target\n",
    "target_unique = data_copy[\"Target\"].unique()\n",
    "print(f\"Target classes: {target_unique}\")\n",
    "\n",
    "class_counts = data_copy[\"Target\"].value_counts()\n",
    "print(class_counts)"
   ]
  },
  {
   "cell_type": "code",
   "execution_count": 265,
   "id": "a6a124e9",
   "metadata": {},
   "outputs": [
    {
     "data": {
      "image/png": "[encoded data removed]",
      "text/plain": [
       "<Figure size 432x432 with 1 Axes>"
      ]
     },
     "metadata": {
      "needs_background": "light"
     },
     "output_type": "display_data"
    }
   ],
   "source": [
    "#plot the target values and see if there is disbalance\n",
    "\n",
    "plt.figure(figsize=(6, 6))\n",
    "sns.barplot(x=class_counts.index, y=class_counts.values)\n",
    "plt.xlabel('Churn Status')\n",
    "plt.ylabel('Count')\n",
    "plt.title('Distribution of Churn Class')\n",
    "plt.show()"
   ]
  },
  {
   "cell_type": "markdown",
   "id": "d09209c0",
   "metadata": {},
   "source": [
    "We have class imbalance in our target variable. This indicates that Class 0 is the majority class, and Class 1 is the minority class. \n",
    "Class imbalance can potentially affect the performance of your machine learning model, especially if the model is biased towards predicting the majority class more frequently. We will use **class balance during the model training phase.** "
   ]
  },
  {
   "cell_type": "code",
   "execution_count": 266,
   "id": "57d96728",
   "metadata": {},
   "outputs": [
    {
     "data": {
      "text/plain": [
       "Age                            int64\n",
       "FrequentFlyer                 object\n",
       "AnnualIncomeClass             object\n",
       "ServicesOpted                  int64\n",
       "AccountSyncedToSocialMedia    object\n",
       "BookedHotelOrNot              object\n",
       "Target                         int64\n",
       "dtype: object"
      ]
     },
     "execution_count": 266,
     "metadata": {},
     "output_type": "execute_result"
    }
   ],
   "source": [
    "#check the data on missing or NAN values\n",
    "\n",
    "data_copy.isnull().mean()\n",
    "data_copy.dtypes"
   ]
  },
  {
   "cell_type": "markdown",
   "id": "a4c5f250",
   "metadata": {},
   "source": [
    "### Data preprocessing "
   ]
  },
  {
   "cell_type": "markdown",
   "id": "8d628494",
   "metadata": {},
   "source": [
    " We have 4 object (categorical) variables, which we have to encode and convert them into numerical form."
   ]
  },
  {
   "cell_type": "code",
   "execution_count": 267,
   "id": "771f72fd",
   "metadata": {},
   "outputs": [
    {
     "name": "stdout",
     "output_type": "stream",
     "text": [
      "   Age FrequentFlyer AnnualIncomeClass  ServicesOpted  \\\n",
      "0   34            No     Middle Income              6   \n",
      "1   34           Yes        Low Income              5   \n",
      "2   37            No     Middle Income              3   \n",
      "3   30            No     Middle Income              2   \n",
      "4   30            No        Low Income              1   \n",
      "\n",
      "  AccountSyncedToSocialMedia BookedHotelOrNot  Target  \n",
      "0                         No              Yes       0  \n",
      "1                        Yes               No       1  \n",
      "2                        Yes               No       0  \n",
      "3                         No               No       0  \n",
      "4                         No               No       0  \n",
      "   Age  FrequentFlyer AnnualIncomeClass  ServicesOpted  \\\n",
      "0   34              0     Middle Income              6   \n",
      "1   34              2        Low Income              5   \n",
      "2   37              0     Middle Income              3   \n",
      "3   30              0     Middle Income              2   \n",
      "4   30              0        Low Income              1   \n",
      "\n",
      "   AccountSyncedToSocialMedia  BookedHotelOrNot  Target  \n",
      "0                           0                 1       0  \n",
      "1                           1                 0       1  \n",
      "2                           1                 0       0  \n",
      "3                           0                 0       0  \n",
      "4                           0                 0       0  \n",
      "   Age  FrequentFlyer  ServicesOpted  AccountSyncedToSocialMedia  \\\n",
      "0   34              0              6                           0   \n",
      "1   34              2              5                           1   \n",
      "2   37              0              3                           1   \n",
      "3   30              0              2                           0   \n",
      "4   30              0              1                           0   \n",
      "\n",
      "   BookedHotelOrNot  Target  Income_High Income  Income_Low Income  \\\n",
      "0                 1       0                   0                  0   \n",
      "1                 0       1                   0                  1   \n",
      "2                 0       0                   0                  0   \n",
      "3                 0       0                   0                  0   \n",
      "4                 0       0                   0                  1   \n",
      "\n",
      "   Income_Middle Income  \n",
      "0                     1  \n",
      "1                     0  \n",
      "2                     1  \n",
      "3                     1  \n",
      "4                     0  \n"
     ]
    }
   ],
   "source": [
    "from sklearn.preprocessing import LabelEncoder\n",
    "\n",
    "\n",
    "label_encoder = LabelEncoder()\n",
    "print(data_copy.head())\n",
    "# Encode 'FrequentFlyer' and 'AccountSyncedToSocialMedia'\n",
    "\n",
    "data_copy['FrequentFlyer'] = label_encoder.fit_transform(data_copy['FrequentFlyer'])\n",
    "data_copy['AccountSyncedToSocialMedia'] = label_encoder.fit_transform(data_copy['AccountSyncedToSocialMedia'])\n",
    "data_copy['BookedHotelOrNot'] = label_encoder.fit_transform(data_copy['BookedHotelOrNot'])\n",
    "#data_copy['AnnualIncomeClass'] = label_encoder.fit_transform(data_copy['AnnualIncomeClass'])\n",
    "print(data_copy.head())\n",
    "\n",
    "#one-hot encoded\n",
    "# data_copy = pd.get_dummies(data_copy, columns=['AnnualIncomeClass'], drop_first=True, prefix='Income')\n",
    "data_copy = pd.get_dummies(data_copy, columns=['AnnualIncomeClass'], drop_first=False, prefix='Income')\n",
    "print(data_copy.head())\n"
   ]
  },
  {
   "cell_type": "code",
   "execution_count": 268,
   "id": "7112353a",
   "metadata": {},
   "outputs": [
    {
     "name": "stdout",
     "output_type": "stream",
     "text": [
      "   Age  FrequentFlyer  ServicesOpted  AccountSyncedToSocialMedia  \\\n",
      "0   34              0              6                           0   \n",
      "1   34              2              5                           1   \n",
      "2   37              0              3                           1   \n",
      "3   30              0              2                           0   \n",
      "4   30              0              1                           0   \n",
      "\n",
      "   BookedHotelOrNot  Target  Income_High Income  Income_Low Income  \\\n",
      "0                 1       0                   0                  0   \n",
      "1                 0       1                   0                  1   \n",
      "2                 0       0                   0                  0   \n",
      "3                 0       0                   0                  0   \n",
      "4                 0       0                   0                  1   \n",
      "\n",
      "   Income_Middle Income  \n",
      "0                     1  \n",
      "1                     0  \n",
      "2                     1  \n",
      "3                     1  \n",
      "4                     0  \n"
     ]
    }
   ],
   "source": [
    "print(data_copy.head())"
   ]
  },
  {
   "cell_type": "markdown",
   "id": "74d70038",
   "metadata": {},
   "source": [
    "Because we'll be using Random Forest algorithm to solve our problem, we don't have to normalize our data.  Tree based algorithms are not sensitive to the scale of the input features. The Random forest algorithm works by making binary splits on individual features to build the trees, and these splits are based on the raw feature values rather than their scale."
   ]
  },
  {
   "cell_type": "markdown",
   "id": "924f9c2a",
   "metadata": {},
   "source": [
    "### Data Splitting "
   ]
  },
  {
   "cell_type": "markdown",
   "id": "4dc8e55f",
   "metadata": {},
   "source": [
    ">**random_state = some_number** guarantees, that every time we run the code, we will get the same output,\n",
    "which we made at the first time split."
   ]
  },
  {
   "cell_type": "code",
   "execution_count": 269,
   "id": "366e7f2f",
   "metadata": {
    "scrolled": true
   },
   "outputs": [
    {
     "name": "stdout",
     "output_type": "stream",
     "text": [
      "Index(['Age', 'FrequentFlyer', 'ServicesOpted', 'AccountSyncedToSocialMedia',\n",
      "       'BookedHotelOrNot', 'Income_High Income', 'Income_Low Income',\n",
      "       'Income_Middle Income'],\n",
      "      dtype='object')\n"
     ]
    },
    {
     "data": {
      "text/plain": [
       "0    730\n",
       "1    224\n",
       "Name: Target, dtype: int64"
      ]
     },
     "execution_count": 269,
     "metadata": {},
     "output_type": "execute_result"
    }
   ],
   "source": [
    "x = data_copy.drop(columns=['Target'])\n",
    "print(x.columns)\n",
    "# print(len(x))\n",
    "y = data_copy[\"Target\"]\n",
    "y.value_counts()\n",
    "# print(len(y))"
   ]
  },
  {
   "cell_type": "code",
   "execution_count": 270,
   "id": "36796b0f",
   "metadata": {},
   "outputs": [
    {
     "name": "stdout",
     "output_type": "stream",
     "text": [
      "     Age  FrequentFlyer  ServicesOpted  AccountSyncedToSocialMedia  \\\n",
      "0     34              0              6                           0   \n",
      "1     34              2              5                           1   \n",
      "2     37              0              3                           1   \n",
      "3     30              0              2                           0   \n",
      "4     30              0              1                           0   \n",
      "..   ...            ...            ...                         ...   \n",
      "949   31              2              1                           0   \n",
      "950   30              0              5                           0   \n",
      "951   37              0              4                           0   \n",
      "952   30              0              1                           1   \n",
      "953   31              2              1                           0   \n",
      "\n",
      "     BookedHotelOrNot  Income_High Income  Income_Low Income  \\\n",
      "0                   1                   0                  0   \n",
      "1                   0                   0                  1   \n",
      "2                   0                   0                  0   \n",
      "3                   0                   0                  0   \n",
      "4                   0                   0                  1   \n",
      "..                ...                 ...                ...   \n",
      "949                 0                   0                  1   \n",
      "950                 1                   0                  0   \n",
      "951                 0                   0                  0   \n",
      "952                 1                   0                  1   \n",
      "953                 0                   1                  0   \n",
      "\n",
      "     Income_Middle Income  \n",
      "0                       1  \n",
      "1                       0  \n",
      "2                       1  \n",
      "3                       1  \n",
      "4                       0  \n",
      "..                    ...  \n",
      "949                     0  \n",
      "950                     1  \n",
      "951                     1  \n",
      "952                     0  \n",
      "953                     0  \n",
      "\n",
      "[954 rows x 8 columns]\n"
     ]
    }
   ],
   "source": [
    "from sklearn.model_selection import train_test_split\n",
    "\n",
    "\n",
    "# Split the dataset into training and test sets (80-20 split)\n",
    "X_train, X_test, y_train, y_test = train_test_split(x, y, test_size=0.2, random_state=1)\n",
    "\n",
    "# Further split the training set into training and validation sets (90-10 split)\n",
    "X_train, X_val, y_train, y_val = train_test_split(X_train, y_train, test_size=0.1, random_state=1)\n",
    "\n",
    "\n",
    "X_train, X_val, y_train, y_val = np.asarray(X_train), np.asarray(X_val), np.asarray(y_train), np.asarray(y_val)\n",
    "X_test, y_test = np.asarray(X_test), np.asarray(y_test)\n",
    "print(x)"
   ]
  },
  {
   "cell_type": "code",
   "execution_count": 271,
   "id": "f5a9b51c",
   "metadata": {},
   "outputs": [
    {
     "name": "stdout",
     "output_type": "stream",
     "text": [
      "Training set: (X_train,y_train): (686, 686), \n",
      "Test set: (X_test, y_test): (191, 191)\n",
      "Validation set: (X_val, y_val): (77, 77)\n"
     ]
    }
   ],
   "source": [
    "print(f\"Training set: (X_train,y_train): {len(X_train),len(y_train)}, \\nTest set: (X_test, y_test): {len(X_test), len(y_test)}\")\n",
    "print(f\"Validation set: (X_val, y_val): {len(X_val), len(y_val)}\")"
   ]
  },
  {
   "cell_type": "code",
   "execution_count": 272,
   "id": "228b5016",
   "metadata": {},
   "outputs": [
    {
     "name": "stdout",
     "output_type": "stream",
     "text": [
      "X_train shape: (686, 8)\n",
      "y_train shape: (686,)\n",
      "X_val shape: (77, 8)\n",
      "y_val shape: (77,)\n",
      "X_test shape: (191, 8)\n",
      "y_test shape: (191,)\n",
      "[[29  2  1 ...  1  0  0]\n",
      " [27  2  1 ...  0  1  0]\n",
      " [31  0  2 ...  0  1  0]\n",
      " ...\n",
      " [28  0  3 ...  0  1  0]\n",
      " [30  0  1 ...  0  1  0]\n",
      " [28  2  1 ...  0  1  0]]\n"
     ]
    }
   ],
   "source": [
    "#check the shape of each set\n",
    "\n",
    "print(f\"X_train shape: {X_train.shape}\")\n",
    "print(f\"y_train shape: {y_train.shape}\")\n",
    "\n",
    "print(f\"X_val shape: {X_val.shape}\")\n",
    "print(f\"y_val shape: {y_val.shape}\")\n",
    "\n",
    "print(f\"X_test shape: {X_test.shape}\")\n",
    "print(f\"y_test shape: {y_test.shape}\")\n",
    "print(X_train)"
   ]
  },
  {
   "cell_type": "code",
   "execution_count": 273,
   "id": "84d4317c",
   "metadata": {},
   "outputs": [
    {
     "name": "stdout",
     "output_type": "stream",
     "text": [
      "Best Hyperparameters: {'max_depth': 20, 'min_samples_leaf': 1, 'min_samples_split': 2, 'n_estimators': 150}\n",
      "Best F1-score: 0.7708068790137729\n",
      "F1-score on Test Set: 0.6571428571428571\n"
     ]
    }
   ],
   "source": [
    "from sklearn.model_selection import GridSearchCV\n",
    "from sklearn.ensemble import RandomForestClassifier\n",
    "from sklearn.metrics import f1_score\n",
    "\n",
    "\n",
    "# Step 1: Define the hyperparameter grid\n",
    "param_grid = {\n",
    "    'n_estimators': [50, 100, 150],\n",
    "    'max_depth': [None, 10, 20],\n",
    "    'min_samples_split': [2, 5, 10],\n",
    "    'min_samples_leaf': [1, 2, 4],\n",
    "}\n",
    "\n",
    "# Step 2: Create an instance of the RandomForestClassifier\n",
    "rf_model = RandomForestClassifier()\n",
    "\n",
    "# Step 3: Create a GridSearchCV object\n",
    "grid_search = GridSearchCV(estimator=rf_model, param_grid=param_grid, scoring='f1', cv=5)\n",
    "\n",
    "# Step 4: Fit the GridSearchCV object on the training data\n",
    "grid_search.fit(X_train, y_train)\n",
    "\n",
    "# Step 5: Print the best hyperparameters and corresponding F1-score\n",
    "print(\"Best Hyperparameters:\", grid_search.best_params_)\n",
    "print(\"Best F1-score:\", grid_search.best_score_)\n",
    "\n",
    "# Step 6: Create the final model with the best hyperparameters and train it on the combined training and validation data\n",
    "best_rf_model = RandomForestClassifier(**grid_search.best_params_)\n",
    "best_rf_model.fit(X_train, y_train)\n",
    "\n",
    "# Step 7: Evaluate the final model on the test set\n",
    "y_test_pred = best_rf_model.predict(X_test)\n",
    "test_f1_score = f1_score(y_test, y_test_pred)\n",
    "print(\"F1-score on Test Set:\", test_f1_score)\n"
   ]
  },
  {
   "cell_type": "markdown",
   "id": "8b0b6799",
   "metadata": {},
   "source": [
    "### Creat Random Forest Model"
   ]
  },
  {
   "cell_type": "markdown",
   "id": "47c92fb0",
   "metadata": {},
   "source": [
    "We will train **Random Forest Algorithm** on training set"
   ]
  },
  {
   "cell_type": "code",
   "execution_count": 274,
   "id": "b676935f",
   "metadata": {},
   "outputs": [],
   "source": [
    "from sklearn.ensemble import RandomForestClassifier\n",
    "from sklearn.datasets import make_classification\n",
    "\n",
    "X = X_train\n",
    "y = y_train\n",
    "\n",
    "clf = RandomForestClassifier(n_estimators=50,max_depth=None,min_samples_leaf=1,min_samples_split=2)\n",
    "clf = clf.fit(X,y)\n"
   ]
  },
  {
   "cell_type": "code",
   "execution_count": 275,
   "id": "cc2cc8c8",
   "metadata": {},
   "outputs": [
    {
     "name": "stdout",
     "output_type": "stream",
     "text": [
      "Prediction on training set: [0 1 0 1 0 1 0 0 0 1 0 1 0 0 1 1 1 0 1 1 0 0 0 1 0 0 1 1 0 0 0 0 0 1 0 1 0\n",
      " 0 0 1 0 0 0 0 1 0 1 1 0 1 0 0 1 1 0 0 1 0 0 0 1 0 0 0 1 0 1 0 0 0 0 0 0 0\n",
      " 0 0 0 0 0 0 1 0 0 0 1 0 0 0 0 0 1 1 1 1 0 1 0 0 0 0 1 0 0 0 1 0 0 0 1 0 0\n",
      " 0 0 0 1 0 0 0 0 0 0 0 1 0 0 1 0 0 0 0 1 0 1 0 1 1 0 1 0 0 0 0 1 1 0 1 0 1\n",
      " 0 0 1 0 1 0 0 0 0 0 0 0 0 1 0 0 0 0 0 0 0 1 0 0 1 0 0 0 0 0 0 0 1 0 1 0 0\n",
      " 1 0 0 0 0 0 0 0 0 1 0 0 1 0 0 1 0 0 1 0 0 0 1 1 0 0 1 0 0 0 1 1 0 0 0 0 0\n",
      " 0 1 0 0 0 0 1 0 1 1 1 1 0 0 0 1 0 0 0 1 1 0 0 0 0 0 1 0 0 0 0 0 0 0 0 0 0\n",
      " 0 0 0 0 0 0 0 1 0 0 0 1 0 0 1 0 0 0 0 0 1 1 0 1 0 0 0 1 1 0 0 0 0 0 0 0 0\n",
      " 0 0 1 0 0 0 0 0 0 0 1 0 1 1 1 0 0 0 0 0 0 0 0 1 1 1 0 1 0 0 0 0 0 0 0 0 0\n",
      " 0 0 0 0 0 0 0 0 0 1 0 0 1 0 1 0 0 0 0 0 1 0 0 0 0 1 1 0 0 0 1 0 0 0 0 1 0\n",
      " 0 0 1 0 1 0 1 0 0 0 0 0 0 1 1 0 0 1 1 1 0 1 1 1 1 0 0 0 0 0 0 0 1 0 0 0 0\n",
      " 0 1 0 0 1 0 0 1 0 0 0 0 0 0 0 0 0 0 0 0 1 0 0 0 0 1 0 1 0 0 1 1 0 1 0 0 1\n",
      " 0 0 1 1 0 0 0 0 0 0 0 1 0 1 0 0 0 1 0 1 0 1 0 1 1 0 0 0 0 1 0 0 0 0 1 1 0\n",
      " 0 0 1 1 0 1 1 0 0 0 1 0 0 0 0 0 1 0 1 0 0 0 0 1 0 0 1 0 1 0 0 1 0 0 1 0 0\n",
      " 0 0 0 0 0 0 0 0 0 1 0 1 1 0 0 0 0 0 0 0 0 0 0 0 0 0 1 0 1 0 0 0 0 0 1 0 1\n",
      " 0 1 0 0 0 0 0 0 0 0 0 0 0 0 0 0 0 0 0 1 0 1 0 0 0 0 1 1 0 0 0 0 0 0 0 0 1\n",
      " 1 0 1 0 0 1 0 0 1 0 0 0 1 0 0 1 1 0 0 1 0 0 0 0 0 0 0 0 0 0 0 1 0 0 0 0 0\n",
      " 1 0 0 0 0 0 0 0 0 0 1 0 0 0 0 0 0 0 0 0 1 0 0 0 0 0 1 0 0 1 0 0 0 1 1 0 0\n",
      " 0 0 0 0 0 0 0 0 0 0 0 0 1 1 0 1 0 0 0 1]\n"
     ]
    }
   ],
   "source": [
    "y_predict_train = clf.predict(X_train)\n",
    "print(f'Prediction on training set: {y_predict_train}')"
   ]
  },
  {
   "cell_type": "code",
   "execution_count": 276,
   "id": "4820b095",
   "metadata": {},
   "outputs": [
    {
     "name": "stdout",
     "output_type": "stream",
     "text": [
      "Prediction on validation set: [0 0 1 1 1 0 1 0 0 0 1 0 0 0 0 0 0 0 0 0 0 0 0 0 0 1 0 1 0 1 1 0 1 1 0 0 0\n",
      " 1 0 0 0 0 0 0 1 0 0 0 1 0 1 1 0 1 0 1 0 0 0 0 0 0 0 1 0 1 0 0 0 0 0 0 0 0\n",
      " 0 0 0]\n"
     ]
    }
   ],
   "source": [
    "y_predict_val = clf.predict(X_val)\n",
    "print(f'Prediction on validation set: {y_predict_val}')"
   ]
  },
  {
   "cell_type": "code",
   "execution_count": 277,
   "id": "49aee18f",
   "metadata": {},
   "outputs": [
    {
     "name": "stdout",
     "output_type": "stream",
     "text": [
      "Prediction on test set: [0 0 0 0 0 0 0 1 0 0 0 0 0 0 0 1 1 0 1 0 0 0 0 0 0 1 1 1 0 0 0 0 1 0 0 0 0\n",
      " 0 1 1 0 0 0 0 1 0 0 0 0 0 0 0 0 0 0 1 0 0 1 0 0 1 0 0 0 0 1 0 0 0 0 1 1 0\n",
      " 0 0 0 0 0 0 1 0 0 0 0 0 0 0 0 0 0 0 0 0 0 0 0 0 0 0 0 1 0 0 0 0 0 0 0 0 0\n",
      " 0 0 0 0 0 1 1 0 0 0 0 0 0 0 0 0 0 0 0 0 0 0 0 0 1 0 0 0 0 0 1 0 1 1 0 1 0\n",
      " 1 1 0 0 0 0 0 1 0 0 1 1 0 0 0 1 0 0 0 0 0 0 1 0 0 0 0 0 0 0 0 1 1 0 0 1 0\n",
      " 0 0 0 0 0 1]\n"
     ]
    }
   ],
   "source": [
    "y_predict_test = clf.predict(X_test)\n",
    "print(f'Prediction on test set: {y_predict_test}')"
   ]
  },
  {
   "cell_type": "code",
   "execution_count": 278,
   "id": "d560668b",
   "metadata": {},
   "outputs": [
    {
     "name": "stdout",
     "output_type": "stream",
     "text": [
      "[0.30615269 0.14091292 0.23858308 0.10049887 0.05967571 0.07513597\n",
      " 0.03271291 0.04632784]\n",
      "                      Feature  Importance\n",
      "0                         Age    0.306153\n",
      "2               ServicesOpted    0.238583\n",
      "1               FrequentFlyer    0.140913\n",
      "3  AccountSyncedToSocialMedia    0.100499\n",
      "5          Income_High Income    0.075136\n",
      "4            BookedHotelOrNot    0.059676\n",
      "7        Income_Middle Income    0.046328\n",
      "6           Income_Low Income    0.032713\n"
     ]
    }
   ],
   "source": [
    "#feature importance\n",
    "\n",
    "\n",
    "# Get the feature importance scores from the trained model\n",
    "feature_importances = clf.feature_importances_\n",
    "print(feature_importances)\n",
    "\n",
    "# Create a DataFrame to organize the feature names and their importance scores\n",
    "importance_df = pd.DataFrame({'Feature': x.columns, 'Importance': feature_importances})\n",
    "\n",
    "# Sort the DataFrame by importance scores in descending order\n",
    "importance_df = importance_df.sort_values(by='Importance', ascending=False)\n",
    "\n",
    "# Print the importance scores\n",
    "print(importance_df)"
   ]
  },
  {
   "cell_type": "code",
   "execution_count": 279,
   "id": "7736db0b",
   "metadata": {},
   "outputs": [
    {
     "data": {
      "image/png": "[encoded data removed]",
      "text/plain": [
       "<Figure size 720x720 with 1 Axes>"
      ]
     },
     "metadata": {
      "needs_background": "light"
     },
     "output_type": "display_data"
    }
   ],
   "source": [
    "import matplotlib.pyplot as plt\n",
    "\n",
    "\n",
    "plt.figure(figsize = (10,10))\n",
    "plt.bar(importance_df['Feature'], importance_df['Importance'])\n",
    "plt.xticks(rotation=90)\n",
    "plt.xlabel('Features')\n",
    "plt.ylabel('Importance Score')\n",
    "plt.title('Feature Importance Scores')\n",
    "plt.show()"
   ]
  },
  {
   "cell_type": "markdown",
   "id": "4c943c0d",
   "metadata": {},
   "source": [
    "#### Evaluate models performance"
   ]
  },
  {
   "cell_type": "code",
   "execution_count": 280,
   "id": "b0070a29",
   "metadata": {},
   "outputs": [
    {
     "name": "stdout",
     "output_type": "stream",
     "text": [
      "Precision_train: 0.8833333333333333\n",
      "Recall_train: 0.9190751445086706\n",
      "Accuracy_train: 0.9489795918367347\n"
     ]
    }
   ],
   "source": [
    "from sklearn.metrics import precision_score\n",
    "from sklearn.metrics import accuracy_score\n",
    "from sklearn.metrics import recall_score\n",
    "\n",
    "precision_train = precision_score(y_train, y_predict_train)\n",
    "print(f'Precision_train: {precision_train}')\n",
    "\n",
    "recall_train = recall_score(y_train, y_predict_train)\n",
    "print(f'Recall_train: {recall_train}')\n",
    "\n",
    "accuracy_train = accuracy_score(y_train, y_predict_train)\n",
    "print(f'Accuracy_train: {accuracy_train}')"
   ]
  },
  {
   "cell_type": "code",
   "execution_count": 281,
   "id": "37ae18c2",
   "metadata": {},
   "outputs": [
    {
     "name": "stdout",
     "output_type": "stream",
     "text": [
      "Precision_val: 0.65\n",
      "Recall_val: 0.8125\n",
      "Accuracy_val: 0.8701298701298701\n"
     ]
    }
   ],
   "source": [
    "precision_val = precision_score(y_val, y_predict_val)\n",
    "print(f'Precision_val: {precision_val}')\n",
    "\n",
    "recall_val = recall_score(y_val, y_predict_val)\n",
    "print(f'Recall_val: {recall_val}')\n",
    "\n",
    "accuracy_val = accuracy_score(y_val, y_predict_val)\n",
    "print(f'Accuracy_val: {accuracy_val}')"
   ]
  },
  {
   "cell_type": "code",
   "execution_count": 282,
   "id": "9e34162e",
   "metadata": {},
   "outputs": [
    {
     "name": "stdout",
     "output_type": "stream",
     "text": [
      "Precision_test: 0.6486486486486487\n",
      "Recall_test: 0.6857142857142857\n",
      "Accuracy_test: 0.8743455497382199\n"
     ]
    }
   ],
   "source": [
    "precision_test = precision_score(y_test, y_predict_test)\n",
    "print(f'Precision_test: {precision_test}')\n",
    "\n",
    "recall_test = recall_score(y_test, y_predict_test)\n",
    "print(f'Recall_test: {recall_test}')\n",
    "\n",
    "accuracy_test = accuracy_score(y_test, y_predict_test)\n",
    "print(f'Accuracy_test: {accuracy_test}')"
   ]
  },
  {
   "cell_type": "code",
   "execution_count": 283,
   "id": "cdfd36cc",
   "metadata": {},
   "outputs": [
    {
     "name": "stdout",
     "output_type": "stream",
     "text": [
      "F1-score_train: 0.9008498583569405\n",
      "F1-score_val: 0.7222222222222223\n",
      "F1-score_test: 0.6666666666666667\n",
      "Confusion Matrix (Test Set):\n",
      "[[143  13]\n",
      " [ 11  24]]\n"
     ]
    }
   ],
   "source": [
    "from sklearn.metrics import f1_score, confusion_matrix\n",
    "\n",
    "# Calculate F1-score for training, validation, and test sets\n",
    "\n",
    "f1_train = f1_score(y_train, y_predict_train)\n",
    "f1_val = f1_score(y_val, y_predict_val)\n",
    "f1_test = f1_score(y_test, y_predict_test)\n",
    "\n",
    "print(f'F1-score_train: {f1_train}')\n",
    "print(f'F1-score_val: {f1_val}')\n",
    "print(f'F1-score_test: {f1_test}')\n",
    "\n",
    "# Confusion matrix for test set\n",
    "conf_matrix = confusion_matrix(y_test, y_predict_test)\n",
    "print('Confusion Matrix (Test Set):')\n",
    "print(conf_matrix)"
   ]
  },
  {
   "cell_type": "code",
   "execution_count": 284,
   "id": "cb812458",
   "metadata": {},
   "outputs": [
    {
     "data": {
      "image/png": "[encoded data removed]",
      "text/plain": [
       "<Figure size 432x288 with 1 Axes>"
      ]
     },
     "metadata": {
      "needs_background": "light"
     },
     "output_type": "display_data"
    },
    {
     "data": {
      "image/png": "[encoded data removed]",
      "text/plain": [
       "<Figure size 432x288 with 1 Axes>"
      ]
     },
     "metadata": {
      "needs_background": "light"
     },
     "output_type": "display_data"
    }
   ],
   "source": [
    "import matplotlib.pyplot as plt\n",
    "from sklearn.metrics import roc_curve, auc, precision_recall_curve\n",
    "\n",
    "# ROC curve\n",
    "probas = clf.predict_proba(X_test)\n",
    "fpr, tpr, _ = roc_curve(y_test, probas[:, 1])\n",
    "roc_auc = auc(fpr, tpr)\n",
    "\n",
    "plt.figure()\n",
    "plt.plot(fpr, tpr, color='darkorange', lw=2, label='ROC curve (area = %0.2f)' % roc_auc)\n",
    "plt.plot([0, 1], [0, 1], color='navy', lw=2, linestyle='--')\n",
    "plt.xlabel('False Positive Rate')\n",
    "plt.ylabel('True Positive Rate')\n",
    "plt.title('Receiver Operating Characteristic (ROC)')\n",
    "plt.legend(loc='lower right')\n",
    "plt.show()\n",
    "\n",
    "# Precision-Recall curve\n",
    "precision, recall, _ = precision_recall_curve(y_test, probas[:, 1])\n",
    "\n",
    "plt.figure()\n",
    "plt.step(recall, precision, color='b', alpha=0.2, where='post')\n",
    "plt.fill_between(recall, precision, step='post', alpha=0.2, color='b')\n",
    "plt.xlabel('Recall')\n",
    "plt.ylabel('Precision')\n",
    "plt.title('Precision-Recall Curve')\n",
    "plt.show()"
   ]
  },
  {
   "cell_type": "code",
   "execution_count": 285,
   "id": "98a23832",
   "metadata": {},
   "outputs": [
    {
     "name": "stdout",
     "output_type": "stream",
     "text": [
      "Best Threshold: 0.3500000000000001\n",
      "Best F1 Score on Test Set: 0.7012987012987013\n"
     ]
    }
   ],
   "source": [
    "best_threshold = 0\n",
    "best_f1_score = 0\n",
    "# print(probas)\n",
    "#print(y_test)\n",
    "# Loop through different threshold values\n",
    "for threshold in np.arange(0.1, 1.0, 0.05):\n",
    "    # Convert probabilities into binary predictions based on the current threshold\n",
    "    y_pred_test = np.where(probas[:, 1] >= threshold, 1, 0)\n",
    "    # Calculate the F1 score for the current threshold\n",
    "    current_f1_score = f1_score(y_test, y_pred_test)\n",
    "    \n",
    "    # Update the best threshold and best F1 score if necessary\n",
    "    if current_f1_score > best_f1_score:\n",
    "        best_threshold = threshold\n",
    "        best_f1_score = current_f1_score\n",
    "\n",
    "print(\"Best Threshold:\", best_threshold)\n",
    "print(\"Best F1 Score on Test Set:\", best_f1_score)"
   ]
  },
  {
   "cell_type": "markdown",
   "id": "fd50ce85",
   "metadata": {},
   "source": [
    "### K-Fold Stratified Cross-Validation "
   ]
  },
  {
   "cell_type": "markdown",
   "id": "08ed531a",
   "metadata": {},
   "source": [
    "K-Fold Stratified Cross-Validation is a variation of the standard K-Fold Cross-Validation technique that helps to preserve the class distribution in each fold, especially in cases of imbalanced datasets. It ensures that each fold has a similar proportion of samples from each class, which is important when dealing with classification tasks where the classes are not evenly distributed."
   ]
  },
  {
   "cell_type": "code",
   "execution_count": 290,
   "id": "f010201e",
   "metadata": {},
   "outputs": [
    {
     "name": "stdout",
     "output_type": "stream",
     "text": [
      "F1-scores for each fold: [0.732394366197183, 0.7536231884057971, 0.7647058823529412, 0.7894736842105263, 0.6440677966101694]\n",
      "Accuracy scores for each fold: [0.8623188405797102, 0.8759124087591241, 0.8832116788321168, 0.8832116788321168, 0.8467153284671532]\n",
      "Mean F1-score: 0.7368529835553235\n",
      "Mean Accuracy: 0.8702739870940442\n",
      "Standard Deviation of F1-scores: 0.049909782738046755\n",
      "Standard Deviation of Accuracy scores: 0.01403463064177274\n"
     ]
    }
   ],
   "source": [
    "from sklearn.model_selection import StratifiedKFold\n",
    "\n",
    "\n",
    "# Create an instance of the RandomForestClassifier with the best hyperparameters \n",
    "# (Best Hyperparameters we have already defined above)\n",
    "\n",
    "rf_model = RandomForestClassifier(n_estimators=50, max_depth=None, min_samples_split=2, min_samples_leaf=1)\n",
    "\n",
    "# Create a StratifiedKFold object with the desired number of folds (e.g., k=5)\n",
    "# Set shuffle=True to randomize the data before splitting (optional)\n",
    "stratified_kfold = StratifiedKFold(n_splits=5, shuffle=True, random_state=1)\n",
    "\n",
    "# Initialize lists to store evaluation scores for each fold\n",
    "f1_scores = []\n",
    "accuracy_scores = []\n",
    "x_arr, y_arr = np.asarray(X), np.asarray(y)\n",
    "\n",
    "\n",
    "# Perform stratified cross-validation\n",
    "for train_index, test_index in stratified_kfold.split(x_arr, y_arr):\n",
    "    X_train, X_test = x_arr[train_index], x_arr[test_index]\n",
    "    y_train, y_test = y_arr[train_index], y_arr[test_index]\n",
    "    #print(X_train)\n",
    "    # print(len(X_train))\n",
    "    \n",
    "    # Train the model on the training data\n",
    "    rf_model.fit(X_train, y_train)\n",
    "    \n",
    "    # Make predictions on the test data\n",
    "    y_pred = rf_model.predict(X_test)\n",
    "    \n",
    "    # Calculate evaluation metrics (e.g., F1-score and accuracy) for the fold\n",
    "    f1_scores.append(f1_score(y_test, y_pred))\n",
    "    accuracy_scores.append(accuracy_score(y_test, y_pred))\n",
    "\n",
    "# Print the evaluation scores for each fold\n",
    "print(\"F1-scores for each fold:\", f1_scores)\n",
    "print(\"Accuracy scores for each fold:\", accuracy_scores)\n",
    "\n",
    "# Print the mean and standard deviation of the evaluation scores\n",
    "print(\"Mean F1-score:\", np.mean(f1_scores))\n",
    "print(\"Mean Accuracy:\", np.mean(accuracy_scores))\n",
    "print(\"Standard Deviation of F1-scores:\", np.std(f1_scores))\n",
    "print(\"Standard Deviation of Accuracy scores:\", np.std(accuracy_scores))\n"
   ]
  },
  {
   "cell_type": "code",
   "execution_count": null,
   "id": "c294a1cc",
   "metadata": {},
   "outputs": [],
   "source": []
  }
 ],
 "metadata": {
  "kernelspec": {
   "display_name": "Python 3 (ipykernel)",
   "language": "python",
   "name": "python3"
  },
  "language_info": {
   "codemirror_mode": {
    "name": "ipython",
    "version": 3
   },
   "file_extension": ".py",
   "mimetype": "text/x-python",
   "name": "python",
   "nbconvert_exporter": "python",
   "pygments_lexer": "ipython3",
   "version": "3.9.7"
  }
 },
 "nbformat": 4,
 "nbformat_minor": 5
}
